{
 "cells": [
  {
   "cell_type": "markdown",
   "metadata": {},
   "source": [
    "# Function Design"
   ]
  },
  {
   "cell_type": "code",
   "execution_count": 2,
   "metadata": {},
   "outputs": [
    {
     "name": "stdout",
     "output_type": "stream",
     "text": [
      "def miles_to_km(miles: float) -> float:\n",
      "    return miles * 1.60934\n",
      "\n",
      "\n",
      "def km_to_miles(km: float) -> float:\n",
      "    return km / 1.60934\n",
      "\n",
      "\n",
      "def degF_to_degC(degF: float) -> float:\n",
      "    return (degF - 32) * 5 / 9\n",
      "\n",
      "\n",
      "def degC_to_degF(degC: float) -> float:\n",
      "    return degC * 9 / 5 + 32\n",
      "\n",
      "\n",
      "def lbs_to_kg(lbs: float) -> float:\n",
      "    return lbs * 0.453592\n",
      "\n",
      "\n",
      "def kg_to_lbs(kg: float) -> float:\n",
      "    return kg / 0.453592\n"
     ]
    }
   ],
   "source": [
    "%cat unit_conversions.py"
   ]
  },
  {
   "cell_type": "markdown",
   "metadata": {},
   "source": [
    "# Module Creation"
   ]
  },
  {
   "cell_type": "code",
   "execution_count": 13,
   "metadata": {},
   "outputs": [
    {
     "name": "stdout",
     "output_type": "stream",
     "text": [
      "miles_to_km(100) = 160.934\n",
      "km_to_miles(100) = 62.137273664980675\n",
      "degC_to_degF(100) = 212.0\n",
      "degF_to_degC(100) = 37.77777777777778\n",
      "lbs_to_kg(100) = 45.3592\n",
      "kg_to_lbs(100) = 220.46244201837774\n"
     ]
    }
   ],
   "source": [
    "import unit_conversions\n",
    "for fun in [\n",
    "    unit_conversions.miles_to_km,\n",
    "    unit_conversions.km_to_miles,\n",
    "    unit_conversions.degC_to_degF, \n",
    "    unit_conversions.degF_to_degC,\n",
    "    unit_conversions.lbs_to_kg,\n",
    "    unit_conversions.kg_to_lbs\n",
    "    ]:\n",
    "    print(f\"{fun.__name__}(100) = {fun(100)}\")"
   ]
  },
  {
   "cell_type": "markdown",
   "metadata": {},
   "source": [
    "# Namespaces"
   ]
  },
  {
   "cell_type": "code",
   "execution_count": 12,
   "metadata": {},
   "outputs": [
    {
     "name": "stdout",
     "output_type": "stream",
     "text": [
      "def len(data: any):\n",
      "    return 42\n"
     ]
    }
   ],
   "source": [
    "%cat mylen.py"
   ]
  },
  {
   "cell_type": "code",
   "execution_count": 11,
   "metadata": {},
   "outputs": [
    {
     "name": "stdout",
     "output_type": "stream",
     "text": [
      "len([1, 2, 3, 4, 5]) = 5\n",
      "mylen([1, 2, 3, 4, 5]) = 42\n",
      "len([1, 2, 3, 4, 5]) = 42\n"
     ]
    }
   ],
   "source": [
    "mylist = [1, 2, 3, 4, 5]\n",
    "print(f\"len({mylist}) = {len(mylist)}\")\n",
    "import mylen\n",
    "print(f\"mylen({mylist}) = {mylen.len(mylist)}\")\n",
    "from mylen import len\n",
    "print(f\"len({mylist}) = {len(mylist)}\")"
   ]
  },
  {
   "cell_type": "markdown",
   "metadata": {},
   "source": [
    "The standard implementation of `len` was shadowed after the `from mylen import len` statement. The `len` function from the `mylen` module was used instead of the standard `len` function in the second cell. It shows that almost evertthing in Python can be shadowed by a new definition."
   ]
  }
 ],
 "metadata": {
  "kernelspec": {
   "display_name": "base",
   "language": "python",
   "name": "python3"
  },
  "language_info": {
   "codemirror_mode": {
    "name": "ipython",
    "version": 3
   },
   "file_extension": ".py",
   "mimetype": "text/x-python",
   "name": "python",
   "nbconvert_exporter": "python",
   "pygments_lexer": "ipython3",
   "version": "3.11.4"
  },
  "orig_nbformat": 4
 },
 "nbformat": 4,
 "nbformat_minor": 2
}
