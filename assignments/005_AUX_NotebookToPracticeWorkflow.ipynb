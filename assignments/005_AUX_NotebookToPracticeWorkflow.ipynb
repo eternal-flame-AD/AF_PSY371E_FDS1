{
 "cells": [
  {
   "cell_type": "markdown",
   "id": "a677aa22",
   "metadata": {},
   "source": [
    "# This is a test tutorial used to practice the class workflow\n",
    "\n",
    "You are asked to add your information below:\n",
    "\n",
    "Name: A[Redacted]\n",
    "Surname: F[Redacted]\n",
    "EID: G[Redacted]\n",
    "Favorite animal: goldfish\n",
    "Favorite non living thing: stars\n"
   ]
  },
  {
   "cell_type": "markdown",
   "id": "f96ea145",
   "metadata": {},
   "source": []
  }
 ],
 "metadata": {
  "kernelspec": {
   "display_name": "Python 3 (ipykernel)",
   "language": "python",
   "name": "python3"
  },
  "language_info": {
   "codemirror_mode": {
    "name": "ipython",
    "version": 3
   },
   "file_extension": ".py",
   "mimetype": "text/x-python",
   "name": "python",
   "nbconvert_exporter": "python",
   "pygments_lexer": "ipython3",
   "version": "3.9.7"
  }
 },
 "nbformat": 4,
 "nbformat_minor": 5
}
