{
 "cells": [
  {
   "cell_type": "markdown",
   "metadata": {},
   "source": [
    "# Question 1"
   ]
  },
  {
   "cell_type": "code",
   "execution_count": 9,
   "metadata": {},
   "outputs": [
    {
     "name": "stdout",
     "output_type": "stream",
     "text": [
      "P\n",
      "N\n",
      "H\n",
      "<class 'str'>\n"
     ]
    }
   ],
   "source": [
    "s = \"PYTHON\"\n",
    "print(s[0])\n",
    "print(s[-1])\n",
    "print(s[s.index(\"H\")])\n",
    "print(type(s[s.index(\"H\")]))"
   ]
  },
  {
   "cell_type": "markdown",
   "metadata": {},
   "source": [
    "# Question 2"
   ]
  },
  {
   "cell_type": "code",
   "execution_count": 1,
   "metadata": {},
   "outputs": [
    {
     "name": "stdout",
     "output_type": "stream",
     "text": [
      "10\n",
      "40\n",
      "'tuple' object does not support item assignment\n"
     ]
    }
   ],
   "source": [
    "t = (10, 20, 30, 40, 50, 60)\n",
    "print(t[0])\n",
    "print(t[3])\n",
    "try:\n",
    "    t[4] = 30.4\n",
    "except TypeError as e:\n",
    "    print(e)"
   ]
  },
  {
   "cell_type": "markdown",
   "metadata": {},
   "source": [
    "# Question 3"
   ]
  },
  {
   "cell_type": "code",
   "execution_count": 3,
   "metadata": {},
   "outputs": [
    {
     "name": "stdout",
     "output_type": "stream",
     "text": [
      "5\n",
      "95\n",
      "[55, 65, 75]\n",
      "65\n"
     ]
    }
   ],
   "source": [
    "lst = [5, 15, 25, [35, 45, [55, 65, 75], 85], 95]\n",
    "print(lst[0])\n",
    "print(lst[-1])\n",
    "\n",
    "def lst_find_recursive(data, value, path = None):\n",
    "    if path == None:\n",
    "        path = []\n",
    "    for i in range(len(data)):\n",
    "        if data[i] == value:\n",
    "            path.append(i)\n",
    "            return path\n",
    "        elif isinstance(data[i], list):\n",
    "            path.append(i)\n",
    "            ret = lst_find_recursive(data[i], value, path)\n",
    "            if ret != None:\n",
    "                return ret\n",
    "    return None\n",
    "\n",
    "def lst_traverse(data, indices):\n",
    "    for i in indices:\n",
    "        data = data[i]\n",
    "    return data\n",
    "\n",
    "print(lst_traverse(lst, lst_find_recursive(lst, [55, 65, 75])))\n",
    "print(lst_traverse(lst, lst_find_recursive(lst, 65)))"
   ]
  },
  {
   "cell_type": "code",
   "execution_count": 59,
   "metadata": {},
   "outputs": [
    {
     "name": "stdout",
     "output_type": "stream",
     "text": [
      "[4, 5, 6]\n",
      "[3, 6, 9]\n",
      "[[1, 2, 3], [4, 0, 6], [7, 8, 9]]\n"
     ]
    }
   ],
   "source": [
    "matrix = [\n",
    "    [1, 2, 3],\n",
    "    [4, 5, 6],\n",
    "    [7, 8, 9]\n",
    "]\n",
    "\n",
    "print(matrix[1])\n",
    "print(list(x[2] for x in matrix))\n",
    "matrix[int((len(matrix) - 1) / 2)][int((len(matrix[0]) - 1) / 2)] = 0\n",
    "print(matrix)"
   ]
  },
  {
   "cell_type": "markdown",
   "metadata": {},
   "source": [
    "# Question 5"
   ]
  },
  {
   "cell_type": "code",
   "execution_count": 67,
   "metadata": {},
   "outputs": [
    {
     "name": "stdout",
     "output_type": "stream",
     "text": [
      "union = {1, 2, 3, 4, 5, 6, 7, 8}\n",
      "intersection = {4, 5}\n",
      "in a but not in b = {1, 2, 3}\n",
      "only in one of them = {1, 2, 3, 6, 7, 8}\n"
     ]
    }
   ],
   "source": [
    "A = [1, 2, 2, 3, 4, 4, 5]\n",
    "B = [4, 5, 5, 6, 7, 7, 8]\n",
    "A_SET, B_SET = set(A), set(B)\n",
    "print(\"union =\", A_SET | B_SET)\n",
    "print(\"intersection =\", A_SET & B_SET)\n",
    "print(\"in a but not in b =\", A_SET - B_SET)\n",
    "print(\"only in one of them =\", A_SET ^ B_SET)"
   ]
  },
  {
   "cell_type": "markdown",
   "metadata": {},
   "source": [
    "# Question 6"
   ]
  },
  {
   "cell_type": "code",
   "execution_count": 70,
   "metadata": {},
   "outputs": [
    {
     "name": "stdout",
     "output_type": "stream",
     "text": [
      "stock['apple'] = 50\n",
      "stock = {'apple': 50, 'banana': 30, 'grape': 45, 'pear': 40}\n"
     ]
    }
   ],
   "source": [
    "stock = {\n",
    "    \"apple\": 50,\n",
    "    \"banana\": 25,\n",
    "    \"orange\": 30,\n",
    "    \"grape\": 45\n",
    "}\n",
    "\n",
    "print(\"stock['apple'] =\", stock[\"apple\"])\n",
    "\n",
    "stock[\"pear\"] = 40\n",
    "\n",
    "stock[\"banana\"] = 30\n",
    "\n",
    "stock.pop(\"orange\")\n",
    "print(\"stock =\", stock)"
   ]
  }
 ],
 "metadata": {
  "kernelspec": {
   "display_name": "base",
   "language": "python",
   "name": "python3"
  },
  "language_info": {
   "codemirror_mode": {
    "name": "ipython",
    "version": 3
   },
   "file_extension": ".py",
   "mimetype": "text/x-python",
   "name": "python",
   "nbconvert_exporter": "python",
   "pygments_lexer": "ipython3",
   "version": "3.11.4"
  },
  "orig_nbformat": 4
 },
 "nbformat": 4,
 "nbformat_minor": 2
}
