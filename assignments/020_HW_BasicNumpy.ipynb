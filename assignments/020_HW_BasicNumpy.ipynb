{
 "cells": [
  {
   "cell_type": "code",
   "execution_count": 2,
   "metadata": {},
   "outputs": [],
   "source": [
    "import numpy as np"
   ]
  },
  {
   "cell_type": "markdown",
   "metadata": {},
   "source": [
    "1. **Array Creation**:\n",
    "    a. Create a 1D array containing numbers from 0 to 9.\n",
    "    b. Create a 3x3 matrix with numbers from 1 to 9.\n",
    "    c. Generate a 1D array of 10 random integers between 50 and 100.\n",
    "    d. Create a 3x4 matrix of random floating-point numbers between 0 and 1."
   ]
  },
  {
   "cell_type": "code",
   "execution_count": 12,
   "metadata": {},
   "outputs": [
    {
     "data": {
      "text/plain": [
       "array([0, 1, 2, 3, 4, 5, 6, 7, 8, 9])"
      ]
     },
     "execution_count": 12,
     "metadata": {},
     "output_type": "execute_result"
    }
   ],
   "source": [
    "ans_1a = np.array(range(10))\n",
    "ans_1a"
   ]
  },
  {
   "cell_type": "code",
   "execution_count": 13,
   "metadata": {},
   "outputs": [
    {
     "data": {
      "text/plain": [
       "array([[1, 2, 3],\n",
       "       [4, 5, 6],\n",
       "       [7, 8, 9]])"
      ]
     },
     "execution_count": 13,
     "metadata": {},
     "output_type": "execute_result"
    }
   ],
   "source": [
    "ans_1b = np.array(range(1, 10)).reshape(3, 3)\n",
    "ans_1b"
   ]
  },
  {
   "cell_type": "code",
   "execution_count": 14,
   "metadata": {},
   "outputs": [
    {
     "data": {
      "text/plain": [
       "array([63, 86, 80, 57, 77, 90, 91, 95, 83, 70])"
      ]
     },
     "execution_count": 14,
     "metadata": {},
     "output_type": "execute_result"
    }
   ],
   "source": [
    "ans_1c = np.random.randint(50, 100, 10)\n",
    "ans_1c"
   ]
  },
  {
   "cell_type": "code",
   "execution_count": 15,
   "metadata": {},
   "outputs": [
    {
     "data": {
      "text/plain": [
       "array([[0.4306795 , 0.2455209 , 0.2945291 , 0.35705186],\n",
       "       [0.03801397, 0.25977616, 0.95956482, 0.05066097],\n",
       "       [0.20542758, 0.43725626, 0.17766784, 0.56822434]])"
      ]
     },
     "execution_count": 15,
     "metadata": {},
     "output_type": "execute_result"
    }
   ],
   "source": [
    "ans_1d = np.random.rand(3, 4)\n",
    "ans_1d"
   ]
  },
  {
   "cell_type": "markdown",
   "metadata": {},
   "source": [
    "2. **Array Indexing**:\n",
    "    a. From the 1D array created in 1a, extract all even numbers.\n",
    "    b. From the 3x3 matrix created in 1b, extract the second row.\n",
    "    c. From the 3x3 matrix, extract the element at the third row and second column.\n",
    "    d. From the 3x4 matrix created in 1d, extract all elements greater than 0.5."
   ]
  },
  {
   "cell_type": "code",
   "execution_count": 16,
   "metadata": {},
   "outputs": [
    {
     "data": {
      "text/plain": [
       "array([0, 2, 4, 6, 8])"
      ]
     },
     "execution_count": 16,
     "metadata": {},
     "output_type": "execute_result"
    }
   ],
   "source": [
    "ans_1a[ans_1a % 2 == 0]"
   ]
  },
  {
   "cell_type": "code",
   "execution_count": 18,
   "metadata": {},
   "outputs": [
    {
     "data": {
      "text/plain": [
       "array([4, 5, 6])"
      ]
     },
     "execution_count": 18,
     "metadata": {},
     "output_type": "execute_result"
    }
   ],
   "source": [
    "ans_1b[1, :]"
   ]
  },
  {
   "cell_type": "code",
   "execution_count": 19,
   "metadata": {},
   "outputs": [
    {
     "data": {
      "text/plain": [
       "8"
      ]
     },
     "execution_count": 19,
     "metadata": {},
     "output_type": "execute_result"
    }
   ],
   "source": [
    "ans_1b[2,1]"
   ]
  },
  {
   "cell_type": "code",
   "execution_count": 21,
   "metadata": {},
   "outputs": [
    {
     "data": {
      "text/plain": [
       "array([0.95956482, 0.56822434])"
      ]
     },
     "execution_count": 21,
     "metadata": {},
     "output_type": "execute_result"
    }
   ],
   "source": [
    "ans_1d[ans_1d > .5]"
   ]
  },
  {
   "cell_type": "markdown",
   "metadata": {},
   "source": [
    "3. **Basic Math Operations**:\n",
    "    a. Create two arrays `A` and `B` of shape (4, 4) with random integers between 1 and 10. Compute the element-wise sum and product.\n",
    "    b. Multiply the 1D array created in 1a by 5.\n",
    "    c. Subtract the mean of the 1D array created in 1a from each of its elements."
   ]
  },
  {
   "cell_type": "code",
   "execution_count": 25,
   "metadata": {},
   "outputs": [],
   "source": [
    "A = np.random.randint(1, 11, (4,4))\n",
    "B = np.random.randint(1, 11, (4,4))"
   ]
  },
  {
   "cell_type": "code",
   "execution_count": 26,
   "metadata": {},
   "outputs": [
    {
     "data": {
      "text/plain": [
       "array([[15, 14, 13, 18],\n",
       "       [11,  2, 16,  4],\n",
       "       [ 4,  6,  9,  9],\n",
       "       [13, 12,  8,  8]])"
      ]
     },
     "execution_count": 26,
     "metadata": {},
     "output_type": "execute_result"
    }
   ],
   "source": [
    "A+B"
   ]
  },
  {
   "cell_type": "code",
   "execution_count": 27,
   "metadata": {},
   "outputs": [
    {
     "data": {
      "text/plain": [
       "array([[50, 45, 36, 81],\n",
       "       [18,  1, 60,  4],\n",
       "       [ 3,  5, 18, 18],\n",
       "       [30, 32, 15, 15]])"
      ]
     },
     "execution_count": 27,
     "metadata": {},
     "output_type": "execute_result"
    }
   ],
   "source": [
    "A*B"
   ]
  },
  {
   "cell_type": "code",
   "execution_count": 28,
   "metadata": {},
   "outputs": [
    {
     "data": {
      "text/plain": [
       "array([ 0,  5, 10, 15, 20, 25, 30, 35, 40, 45])"
      ]
     },
     "execution_count": 28,
     "metadata": {},
     "output_type": "execute_result"
    }
   ],
   "source": [
    "ans_1a * 5"
   ]
  },
  {
   "cell_type": "code",
   "execution_count": 29,
   "metadata": {},
   "outputs": [
    {
     "data": {
      "text/plain": [
       "array([-4.5, -3.5, -2.5, -1.5, -0.5,  0.5,  1.5,  2.5,  3.5,  4.5])"
      ]
     },
     "execution_count": 29,
     "metadata": {},
     "output_type": "execute_result"
    }
   ],
   "source": [
    "ans_1a - ans_1a.mean()"
   ]
  },
  {
   "cell_type": "markdown",
   "metadata": {},
   "source": [
    "4. **Basic Statistical Calculations**:\n",
    "    a. Compute the mean, median, and standard deviation of the 1D array from 1a.\n",
    "    b. Find the minimum and maximum values of the 3x4 matrix created in 1d.\n",
    "    c. Find the position (index) of the minimum and maximum values in the 1D array created in 1c."
   ]
  },
  {
   "cell_type": "code",
   "execution_count": 31,
   "metadata": {},
   "outputs": [
    {
     "name": "stdout",
     "output_type": "stream",
     "text": [
      "{'mean': 4.5, 'median': 4.5, 'std': 2.8722813232690143}\n"
     ]
    }
   ],
   "source": [
    "print({\n",
    "    \"mean\": ans_1a.mean(),\n",
    "    \"median\": np.median(ans_1a),\n",
    "    \"std\": ans_1a.std()\n",
    "})"
   ]
  },
  {
   "cell_type": "code",
   "execution_count": 33,
   "metadata": {},
   "outputs": [
    {
     "name": "stdout",
     "output_type": "stream",
     "text": [
      "{'min': 0.038013968420005595, 'max': 0.9595648245510772}\n"
     ]
    }
   ],
   "source": [
    "print({\n",
    "    \"min\": ans_1d.min(),\n",
    "    \"max\": ans_1d.max()\n",
    "})"
   ]
  },
  {
   "cell_type": "code",
   "execution_count": 35,
   "metadata": {},
   "outputs": [
    {
     "name": "stdout",
     "output_type": "stream",
     "text": [
      "{'min': 3, 'max': 7}\n"
     ]
    }
   ],
   "source": [
    "print({\n",
    "    \"min\": ans_1c.argmin(),\n",
    "    \"max\": ans_1c.argmax()\n",
    "})"
   ]
  },
  {
   "cell_type": "markdown",
   "metadata": {},
   "source": [
    "5. **Bonus (Optional)**:\n",
    "    a. Compute the dot product of two 1D arrays of length 5. Remember, the dot product is the sum of the products of corresponding entries of the two sequences of numbers.\n",
    "    b. Reshape the 3x3 matrix from 1b into a 1D array of length 9."
   ]
  },
  {
   "cell_type": "code",
   "execution_count": 39,
   "metadata": {},
   "outputs": [
    {
     "data": {
      "text/plain": [
       "147"
      ]
     },
     "execution_count": 39,
     "metadata": {},
     "output_type": "execute_result"
    }
   ],
   "source": [
    "A = np.random.randint(1, 11, 5)\n",
    "B = np.random.randint(1, 11, 5)\n",
    "\n",
    "A.dot(B)"
   ]
  },
  {
   "cell_type": "code",
   "execution_count": 41,
   "metadata": {},
   "outputs": [
    {
     "data": {
      "text/plain": [
       "array([1, 2, 3, 4, 5, 6, 7, 8, 9])"
      ]
     },
     "execution_count": 41,
     "metadata": {},
     "output_type": "execute_result"
    }
   ],
   "source": [
    "ans_1b.reshape(9)"
   ]
  }
 ],
 "metadata": {
  "kernelspec": {
   "display_name": "base",
   "language": "python",
   "name": "python3"
  },
  "language_info": {
   "codemirror_mode": {
    "name": "ipython",
    "version": 3
   },
   "file_extension": ".py",
   "mimetype": "text/x-python",
   "name": "python",
   "nbconvert_exporter": "python",
   "pygments_lexer": "ipython3",
   "version": "3.11.4"
  }
 },
 "nbformat": 4,
 "nbformat_minor": 2
}
