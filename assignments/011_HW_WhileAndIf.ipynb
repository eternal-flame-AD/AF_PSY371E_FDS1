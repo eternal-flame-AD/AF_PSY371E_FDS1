{
 "cells": [
  {
   "cell_type": "code",
   "execution_count": 44,
   "metadata": {},
   "outputs": [],
   "source": [
    "from typing import TypeVar, List, Callable\n",
    "import random\n",
    "import enum\n",
    "import numpy as np\n",
    "import pandas as pd\n",
    "\n",
    "\n",
    "T = TypeVar('T')"
   ]
  },
  {
   "cell_type": "markdown",
   "metadata": {},
   "source": [
    "# Logic\n",
    "## a)"
   ]
  },
  {
   "cell_type": "code",
   "execution_count": 34,
   "metadata": {},
   "outputs": [
    {
     "data": {
      "text/plain": [
       "True"
      ]
     },
     "execution_count": 34,
     "metadata": {},
     "output_type": "execute_result"
    }
   ],
   "source": [
    "test_strs = [\"y\", \"o\"]\n",
    "comp_str = \"Hello World\"\n",
    "\n",
    "any([x for x in test_strs if x in comp_str])"
   ]
  },
  {
   "cell_type": "markdown",
   "metadata": {},
   "source": [
    "## b)"
   ]
  },
  {
   "cell_type": "code",
   "execution_count": 45,
   "metadata": {},
   "outputs": [
    {
     "data": {
      "text/html": [
       "<div>\n",
       "<style scoped>\n",
       "    .dataframe tbody tr th:only-of-type {\n",
       "        vertical-align: middle;\n",
       "    }\n",
       "\n",
       "    .dataframe tbody tr th {\n",
       "        vertical-align: top;\n",
       "    }\n",
       "\n",
       "    .dataframe thead th {\n",
       "        text-align: right;\n",
       "    }\n",
       "</style>\n",
       "<table border=\"1\" class=\"dataframe\">\n",
       "  <thead>\n",
       "    <tr style=\"text-align: right;\">\n",
       "      <th></th>\n",
       "      <th>op1</th>\n",
       "      <th>op2</th>\n",
       "      <th>xor_result</th>\n",
       "    </tr>\n",
       "  </thead>\n",
       "  <tbody>\n",
       "    <tr>\n",
       "      <th>0</th>\n",
       "      <td>True</td>\n",
       "      <td>True</td>\n",
       "      <td>False</td>\n",
       "    </tr>\n",
       "    <tr>\n",
       "      <th>1</th>\n",
       "      <td>True</td>\n",
       "      <td>False</td>\n",
       "      <td>True</td>\n",
       "    </tr>\n",
       "    <tr>\n",
       "      <th>2</th>\n",
       "      <td>False</td>\n",
       "      <td>True</td>\n",
       "      <td>True</td>\n",
       "    </tr>\n",
       "    <tr>\n",
       "      <th>3</th>\n",
       "      <td>False</td>\n",
       "      <td>False</td>\n",
       "      <td>False</td>\n",
       "    </tr>\n",
       "  </tbody>\n",
       "</table>\n",
       "</div>"
      ],
      "text/plain": [
       "     op1    op2  xor_result\n",
       "0   True   True       False\n",
       "1   True  False        True\n",
       "2  False   True        True\n",
       "3  False  False       False"
      ]
     },
     "execution_count": 45,
     "metadata": {},
     "output_type": "execute_result"
    }
   ],
   "source": [
    "def xor(a: np.ndarray, b: np.ndarray) -> np.ndarray:\n",
    "    return np.logical_and(\n",
    "        np.logical_not(\n",
    "            np.logical_and(a, b)\n",
    "            ),\n",
    "        np.logical_or(a, b)\n",
    "        )\n",
    "df = pd.DataFrame(\n",
    "        np.array(np.meshgrid([True, False], [True, False])).T.reshape(-1, 2),\n",
    "        columns=[\"op1\", \"op2\"])\n",
    "df.assign(xor_result = lambda x: xor(x[\"op1\"], x[\"op2\"]))"
   ]
  },
  {
   "cell_type": "markdown",
   "metadata": {},
   "source": [
    "# Age Category"
   ]
  },
  {
   "cell_type": "code",
   "execution_count": 6,
   "metadata": {},
   "outputs": [
    {
     "data": {
      "text/plain": [
       "'Child'"
      ]
     },
     "execution_count": 6,
     "metadata": {},
     "output_type": "execute_result"
    }
   ],
   "source": [
    "# transform input and return error message if input cannot be transformed\n",
    "def inputx(prompt: str, transform: Callable[[str], T] = lambda x: x) -> T:\n",
    "    while True:\n",
    "        try:\n",
    "            return transform(input(prompt))\n",
    "        except ValueError:\n",
    "            from IPython.display import display, Markdown\n",
    "            display(Markdown(\"<span style='color:red'>Invalid input. Please try again.</span>\"))\n",
    "\n",
    "def classify_age(age: int) -> str | None:\n",
    "    if age < 0:\n",
    "        return None\n",
    "    elif age <= 2:\n",
    "        return \"Infant\"\n",
    "    elif age <= 12:\n",
    "        return \"Child\"\n",
    "    elif age <= 19:\n",
    "        return \"Teenager\"\n",
    "    elif age <= 64:\n",
    "        return \"Adult\"\n",
    "    else:\n",
    "        return \"Senior\"\n",
    "\n",
    "classify_age(inputx(\"Enter your age: \", int))"
   ]
  },
  {
   "cell_type": "markdown",
   "metadata": {},
   "source": [
    "# Number Classifier"
   ]
  },
  {
   "cell_type": "code",
   "execution_count": 13,
   "metadata": {},
   "outputs": [
    {
     "name": "stdout",
     "output_type": "stream",
     "text": [
      "Classifying 12\n",
      "NumberSignClassifier: Positive\n",
      "NumberParityClassifier: Even\n"
     ]
    }
   ],
   "source": [
    "# superclass for all number classifiers\n",
    "class NumberClassifier():\n",
    "    @staticmethod\n",
    "    def classify(number: int) -> str:\n",
    "        raise NotImplementedError(\"Subclass must implement abstract method\")\n",
    "\n",
    "class NumberSignClassifier(NumberClassifier):\n",
    "    @staticmethod\n",
    "    def classify(number: int) -> str:\n",
    "        if number < 0:\n",
    "            return \"Negative\"\n",
    "        elif number == 0:\n",
    "            return \"Zero\"\n",
    "        else:\n",
    "            return \"Positive\"\n",
    "    \n",
    "class NumberParityClassifier(NumberClassifier):\n",
    "    @staticmethod\n",
    "    def classify(number: int) -> str:\n",
    "        if number % 2 == 0:\n",
    "            return \"Even\"\n",
    "        else:\n",
    "            return \"Odd\"\n",
    "\n",
    "input_number = inputx(\"Enter a number: \", int)\n",
    "classifiers = [NumberSignClassifier, NumberParityClassifier]\n",
    "print(f\"Classifying {input_number}\")\n",
    "for classifier in classifiers:\n",
    "    print(f\"{classifier.__name__}: {classifier.classify(input_number)}\")"
   ]
  },
  {
   "cell_type": "markdown",
   "metadata": {},
   "source": [
    "# Calculator"
   ]
  },
  {
   "cell_type": "code",
   "execution_count": 26,
   "metadata": {},
   "outputs": [
    {
     "name": "stdout",
     "output_type": "stream",
     "text": [
      "Evaluating 1+2*3\n",
      "7.0\n"
     ]
    }
   ],
   "source": [
    "\n",
    "class Expr:\n",
    "    def _eval(self) -> float:\n",
    "        raise NotImplementedError(\"Subclass must implement abstract method\")\n",
    "                                                                        \n",
    "    def eval(self) -> float:\n",
    "        return self._eval()\n",
    "\n",
    "\n",
    "class NumberLiteral(Expr):\n",
    "    def __init__(self, value: float):\n",
    "        self.value = value\n",
    "\n",
    "    def _eval(self) -> float:\n",
    "        return self.value\n",
    "\n",
    "    def __str__(self) -> str:\n",
    "        return str(self.value)\n",
    "\n",
    "    def __repr__(self) -> str:\n",
    "        return f\"NumberLiteral({self.value})\"\n",
    "\n",
    "\n",
    "class Unop(Expr):\n",
    "    def __init__(self, operand: Expr, op: str):\n",
    "        self.operand = operand\n",
    "        self.op = op\n",
    "\n",
    "    def _eval(self) -> float:\n",
    "        if self.op == \"+\":\n",
    "            return self.operand._eval()\n",
    "        elif self.op == \"-\":\n",
    "            return -self.operand._eval()\n",
    "        else:\n",
    "            raise ValueError(f\"Invalid operator {self.op}\")\n",
    "\n",
    "    def __str__(self) -> str:\n",
    "        return f\"{self.op}{self.operand}\"\n",
    "\n",
    "    def __repr__(self) -> str:\n",
    "        return f\"Unop({self.operand}, {self.op})\"\n",
    "\n",
    "\n",
    "class BinOp(Expr):\n",
    "    def __init__(self, left: Expr, right: Expr, op: str):\n",
    "        self.left = left\n",
    "        self.right = right\n",
    "        self.op = op\n",
    "\n",
    "    def _eval(self) -> float:\n",
    "        if self.op == \"+\":\n",
    "            return self.left._eval() + self.right._eval()\n",
    "        elif self.op == \"-\":\n",
    "            return self.left._eval() - self.right._eval()\n",
    "        elif self.op == \"*\":\n",
    "            return self.left._eval() * self.right._eval()\n",
    "        elif self.op == \"/\":\n",
    "            return self.left._eval() / self.right._eval()\n",
    "        else:\n",
    "            raise ValueError(f\"Invalid operator {self.op}\")\n",
    "\n",
    "    def __str__(self) -> str:\n",
    "        return f\"({self.left}{self.op}{self.right})\"\n",
    "\n",
    "    def __repr__(self) -> str:\n",
    "        return f\"BinOp({self.left}, {self.right}, {self.op})\"\n",
    "\n",
    "\n",
    "class Tokenizer:\n",
    "    class TokenizerState(enum.Enum):\n",
    "        START = 0\n",
    "        NUMBER = 1\n",
    "\n",
    "    def __init__(self, expr: str):\n",
    "        self.expr = expr\n",
    "        self.pos = 0\n",
    "        self.state = Tokenizer.TokenizerState.START\n",
    "\n",
    "    def _next_token(self) -> str | None:\n",
    "        if self.pos >= len(self.expr):\n",
    "            if self.state == Tokenizer.TokenizerState.NUMBER:\n",
    "                self.state = Tokenizer.TokenizerState.START\n",
    "                return self.number\n",
    "            return None\n",
    "        elif self.state == Tokenizer.TokenizerState.START:\n",
    "            if self.expr[self.pos] in \"+-*/()\":\n",
    "                self.pos += 1\n",
    "                return self.expr[self.pos - 1]\n",
    "            elif self.expr[self.pos].isdigit():\n",
    "                self.state = Tokenizer.TokenizerState.NUMBER\n",
    "                self.number = \"\"\n",
    "                return self._next_token()\n",
    "            elif self.expr[self.pos].isspace():\n",
    "                self.pos += 1\n",
    "                return self._next_token()\n",
    "            else:\n",
    "                raise ValueError(f\"Invalid character {self.expr[self.pos]}\")\n",
    "        elif self.state == Tokenizer.TokenizerState.NUMBER:\n",
    "            if self.expr[self.pos].isdigit():\n",
    "                self.pos += 1\n",
    "                self.number += self.expr[self.pos - 1]\n",
    "                return self._next_token()\n",
    "            else:\n",
    "                self.state = Tokenizer.TokenizerState.START\n",
    "                return self.number\n",
    "        else:\n",
    "            raise ValueError(f\"Invalid state {self.state}\")\n",
    "\n",
    "    def tokenize(self) -> List[str]:\n",
    "        tokens = []\n",
    "        while True:\n",
    "            token = self._next_token()\n",
    "            if token is None:\n",
    "                break\n",
    "            else:\n",
    "                tokens.append(token)\n",
    "        return tokens\n",
    "\n",
    "\n",
    "class Parser:\n",
    "    def _parse_expr(self, tokens: List[str | Expr]) -> Expr:\n",
    "        if \"(\" in tokens:\n",
    "            start = tokens.index(\"(\")\n",
    "            end = start + 1\n",
    "            count = 1\n",
    "            while count > 0:\n",
    "                if tokens[end] == \"(\":\n",
    "                    count += 1\n",
    "                elif tokens[end] == \")\":\n",
    "                    count -= 1\n",
    "                end += 1\n",
    "            return self._parse_expr(tokens[:start] + [self._parse_expr(tokens[start + 1:end - 1])] + tokens[end:])\n",
    "\n",
    "        if len(tokens) == 1:\n",
    "            if isinstance(tokens[0], Expr):\n",
    "                return tokens[0]\n",
    "            if tokens[0].isdigit():\n",
    "                return NumberLiteral(float(tokens[0]))\n",
    "            elif tokens[0] in \"+-\":\n",
    "                return Unop(NumberLiteral(0), tokens[0])\n",
    "            else:\n",
    "                raise ValueError(f\"Invalid token {tokens[0]}\")\n",
    "        elif len(tokens) == 2:\n",
    "            if tokens[0] in \"+-\":\n",
    "                return Unop(self._parse_expr(tokens[1:]), tokens[0])\n",
    "            else:\n",
    "                raise ValueError(f\"Invalid token {tokens[0]}\")\n",
    "        elif len(tokens) == 3:\n",
    "            if tokens[1] in \"+-*/\":\n",
    "                return BinOp(self._parse_expr(tokens[:1]), self._parse_expr(tokens[2:]), tokens[1])\n",
    "            else:\n",
    "                raise ValueError(f\"Invalid token {tokens[1]}\")\n",
    "        else:\n",
    "            if \"*\" in tokens or \"/\" in tokens:\n",
    "                if \"*\" in tokens:\n",
    "                    op = \"*\"\n",
    "                else:\n",
    "                    op = \"/\"\n",
    "                op_index = tokens.index(op)\n",
    "                return self._parse_expr(tokens[:op_index - 1] + [BinOp(self._parse_expr(tokens[op_index - 1:op_index]), self._parse_expr(tokens[op_index + 1:op_index + 2]), op)] + tokens[op_index + 2:])\n",
    "            elif \"+\" in tokens or \"-\" in tokens:\n",
    "                if \"+\" in tokens:\n",
    "                    op = \"+\"\n",
    "                else:\n",
    "                    op = \"-\"\n",
    "                op_index = tokens.index(op)\n",
    "                return self._parse_expr(tokens[:op_index - 1] + [BinOp(self._parse_expr(tokens[op_index - 1:op_index]), self._parse_expr(tokens[op_index + 1:op_index + 2]), op)] + tokens[op_index + 2:])\n",
    "            else:\n",
    "                raise ValueError(f\"Invalid tokens {tokens}\")\n",
    "\n",
    "    def parse(self, tokens: List[str]) -> Expr:\n",
    "        return self._parse_expr(tokens)\n",
    "\n",
    "expr = inputx(\"Enter an expression: (e.g. 1+2*3)\")\n",
    "print(f\"Evaluating {expr}\")\n",
    "print(Parser().parse(Tokenizer(expr).tokenize()).eval())"
   ]
  },
  {
   "cell_type": "markdown",
   "metadata": {},
   "source": [
    "# Guessing Game"
   ]
  },
  {
   "cell_type": "code",
   "execution_count": 25,
   "metadata": {},
   "outputs": [
    {
     "name": "stdout",
     "output_type": "stream",
     "text": [
      "Too High\n",
      "Too High\n",
      "Too High\n",
      "Correct\n",
      "You win!\n"
     ]
    }
   ],
   "source": [
    "class GuessResult(enum.Enum):\n",
    "    TOO_LOW = enum.auto()\n",
    "    TOO_HIGH = enum.auto()\n",
    "    CORRECT = enum.auto()\n",
    "\n",
    "    def __str__(self):\n",
    "        return self.name.replace(\"_\", \" \").title()\n",
    "\n",
    "class GuessingGame():\n",
    "    def __init__(self, answer: int, max_guesses: int = 5):\n",
    "        self.answer = answer\n",
    "        self.max_guesses = max_guesses\n",
    "        self.guesses = 0\n",
    "    \n",
    "    def guess(self, guess: int) -> GuessResult:\n",
    "        self.guesses += 1\n",
    "        if self.guesses > self.max_guesses:\n",
    "            raise ValueError(\"Too many guesses\")\n",
    "        if guess < self.answer:\n",
    "            return GuessResult.TOO_LOW\n",
    "        elif guess > self.answer:\n",
    "            return GuessResult.TOO_HIGH\n",
    "        else:\n",
    "            return GuessResult.CORRECT\n",
    "    \n",
    "    def is_game_over(self) -> bool:\n",
    "        return self.guesses >= self.max_guesses\n",
    "    \n",
    "    def play(self) -> None:\n",
    "        while not self.is_game_over():\n",
    "            guess = inputx(\"Enter your guess: \", int)\n",
    "            result = self.guess(guess)\n",
    "            print(result)\n",
    "            if result == GuessResult.CORRECT:\n",
    "                print(\"You win!\")\n",
    "                return\n",
    "        print(\"Game over, the answer was\", self.answer)\n",
    "\n",
    "game = GuessingGame(random.randint(1, 10))\n",
    "game.play()\n",
    "\n"
   ]
  },
  {
   "cell_type": "markdown",
   "metadata": {},
   "source": [
    "# Counter Contrast"
   ]
  },
  {
   "cell_type": "code",
   "execution_count": 22,
   "metadata": {},
   "outputs": [
    {
     "name": "stdout",
     "output_type": "stream",
     "text": [
      "Counting to 5\n",
      "Using for loop:\n",
      "1\n",
      "2\n",
      "3\n",
      "4\n",
      "5\n",
      "Using while loop:\n",
      "1\n",
      "2\n",
      "3\n",
      "4\n",
      "5\n"
     ]
    }
   ],
   "source": [
    "class CounterContrast():\n",
    "    @staticmethod\n",
    "    def using_for_loop(to: int) -> None:\n",
    "        for i in range(1, to + 1):\n",
    "            print(i)\n",
    "    @staticmethod\n",
    "    def using_while_loop(to: int) -> None:\n",
    "        i = 1\n",
    "        while i <= to:\n",
    "            print(i)\n",
    "            i += 1\n",
    "\n",
    "number = inputx(\"Enter a number: \", int)\n",
    "print(f\"Counting to {number}\")\n",
    "print(\"Using for loop:\")\n",
    "CounterContrast.using_for_loop(number)\n",
    "print(\"Using while loop:\")\n",
    "CounterContrast.using_while_loop(number)"
   ]
  },
  {
   "cell_type": "markdown",
   "metadata": {},
   "source": [
    "A for loop is better because we are iterating over an iterable(range)."
   ]
  },
  {
   "cell_type": "markdown",
   "metadata": {},
   "source": [
    "# Multiplication Table"
   ]
  },
  {
   "cell_type": "code",
   "execution_count": null,
   "metadata": {},
   "outputs": [
    {
     "name": "stdout",
     "output_type": "stream",
     "text": [
      "5 x 1 = 5\n",
      "5 x 2 = 10\n",
      "5 x 3 = 15\n",
      "5 x 4 = 20\n",
      "5 x 5 = 25\n",
      "5 x 6 = 30\n",
      "5 x 7 = 35\n",
      "5 x 8 = 40\n",
      "5 x 9 = 45\n",
      "5 x 10 = 50\n"
     ]
    }
   ],
   "source": [
    "class MultiplicationTabls():\n",
    "    @staticmethod\n",
    "    def using_for_loop(x: int, to: int = 10) -> None:\n",
    "        for i in range(1, to + 1):\n",
    "            print(f\"{x} x {i} = {x * i}\")\n",
    "    @staticmethod\n",
    "    def using_while_loop(x: int, to: int = 10) -> None:\n",
    "        i = 1\n",
    "        while i <= to:\n",
    "            print(f\"{x} x {i} = {x * i}\")\n",
    "            i += 1\n",
    "\n",
    "number = inputx(\"Enter a number: \", int)\n",
    "MultiplicationTabls.using_for_loop(number)"
   ]
  },
  {
   "cell_type": "markdown",
   "metadata": {},
   "source": [
    "A for loop is better because we are iterating over an iterable(range)."
   ]
  },
  {
   "cell_type": "markdown",
   "metadata": {},
   "source": [
    "# Entering a positive number"
   ]
  },
  {
   "cell_type": "markdown",
   "metadata": {},
   "source": [
    "I would use a while loop because this is looping until some condition becomes true. To use a for loop you need to write a custom iterator to achieve this. A while loop would be more concise and appropriate for this task."
   ]
  }
 ],
 "metadata": {
  "kernelspec": {
   "display_name": "base",
   "language": "python",
   "name": "python3"
  },
  "language_info": {
   "codemirror_mode": {
    "name": "ipython",
    "version": 3
   },
   "file_extension": ".py",
   "mimetype": "text/x-python",
   "name": "python",
   "nbconvert_exporter": "python",
   "pygments_lexer": "ipython3",
   "version": "3.11.4"
  },
  "orig_nbformat": 4
 },
 "nbformat": 4,
 "nbformat_minor": 2
}
