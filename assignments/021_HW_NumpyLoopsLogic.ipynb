{
 "cells": [
  {
   "cell_type": "code",
   "execution_count": 4,
   "metadata": {},
   "outputs": [],
   "source": [
    "import numpy as np\n",
    "import math\n"
   ]
  },
  {
   "cell_type": "markdown",
   "metadata": {},
   "source": [
    "**Problem 1: Basic Array Element Comparisons**\n",
    "\n",
    "Given the following NumPy array:\n",
    "```python\n",
    "import numpy as np\n",
    "arr = np.array([2, 5, 8, 10, 3, 6, 7])\n",
    "```\n",
    "\n",
    "Write a Python script that checks and prints which elements of the array are even."
   ]
  },
  {
   "cell_type": "code",
   "execution_count": 3,
   "metadata": {},
   "outputs": [
    {
     "name": "stdout",
     "output_type": "stream",
     "text": [
      "2\n",
      "8\n",
      "10\n",
      "6\n"
     ]
    }
   ],
   "source": [
    "arr = np.array([2, 5, 8, 10, 3, 6, 7])\n",
    "for i in range(len(arr)):\n",
    "    if arr[i] % 2 == 0:\n",
    "        print(arr[i])"
   ]
  },
  {
   "cell_type": "markdown",
   "metadata": {},
   "source": [
    "**Problem 2: Find Prime Array Elements**\n",
    "\n",
    "Given a 1D NumPy integer array of arbitrary length, write a Python script that checks to see which elements are prime numbers, and builds a corresponding `True`/`False` array.\n",
    "\n",
    "Pro Tip: Write a function to check if a single input number is prime, then call that function from within the `for()` loop used to iterate over the vector. This function will also contain a loop."
   ]
  },
  {
   "cell_type": "code",
   "execution_count": 10,
   "metadata": {},
   "outputs": [
    {
     "name": "stdout",
     "output_type": "stream",
     "text": [
      "[ True  True False False  True False  True]\n"
     ]
    }
   ],
   "source": [
    "def is_prime(n: int) -> bool:\n",
    "    if n < 2:\n",
    "        return False\n",
    "    for i in range(2, math.ceil(math.sqrt(n))):\n",
    "        if n % i == 0:\n",
    "            return False\n",
    "    return True\n",
    "\n",
    "arr = np.array([2, 5, 8, 10, 3, 6, 7])\n",
    "arr_is_prime = np.array([is_prime(i) for i in arr])\n",
    "print(arr_is_prime)"
   ]
  },
  {
   "cell_type": "markdown",
   "metadata": {},
   "source": [
    "**Problem 3: Nested For Loops with 2D Arrays**\n",
    "\n",
    "Suppose you have a 1D NumPy array `a` of shape `n x n`, initialized with zeros:\n",
    "\n",
    "```python\n",
    "import numpy as np\n",
    "n = 10\n",
    "a = np.zeros((n,n), dtype=int)\n",
    "```\n",
    "\n",
    "Write a Python script that fills this array with numbers from the Fibonacci sequence such that:\n",
    "\n",
    "1. The Fibonacci sequence *starting with 0* runs across the first row.\n",
    "2. Fibonacci sequences run down each column *starting with the number in the first row*.\n",
    "\n",
    "\n",
    "Print the matrix.\n",
    "\n",
    "Recall that the Fibonacci sequence starts with the numbers 0 and 1, and each subsequent number is the sum of the two preceding ones:\n"
   ]
  },
  {
   "cell_type": "code",
   "execution_count": 15,
   "metadata": {},
   "outputs": [
    {
     "data": {
      "text/plain": [
       "array([[   0,    1,    1,    2,    3,    5,    8,   13,   21,   34],\n",
       "       [   0,    1,    1,    2,    3,    5,    8,   13,   21,   34],\n",
       "       [   0,    2,    2,    4,    6,   10,   16,   26,   42,   68],\n",
       "       [   0,    3,    3,    6,    9,   15,   24,   39,   63,  102],\n",
       "       [   0,    5,    5,   10,   15,   25,   40,   65,  105,  170],\n",
       "       [   0,    8,    8,   16,   24,   40,   64,  104,  168,  272],\n",
       "       [   0,   13,   13,   26,   39,   65,  104,  169,  273,  442],\n",
       "       [   0,   21,   21,   42,   63,  105,  168,  273,  441,  714],\n",
       "       [   0,   34,   34,   68,  102,  170,  272,  442,  714, 1156],\n",
       "       [   0,   55,   55,  110,  165,  275,  440,  715, 1155, 1870]])"
      ]
     },
     "execution_count": 15,
     "metadata": {},
     "output_type": "execute_result"
    }
   ],
   "source": [
    "n = 10\n",
    "a = np.zeros((n,n), dtype=int)\n",
    "a[0,0] = 0\n",
    "a[0,1] = 1\n",
    "for j in range(2,n):\n",
    "    a[0,j] = a[0,j-1] + a[0,j-2]\n",
    "for i in range(1, n):\n",
    "    for j in range(n):\n",
    "        a[i,j] = a[i-1,j] + a[i-2,j]\n",
    "a"
   ]
  },
  {
   "cell_type": "markdown",
   "metadata": {},
   "source": [
    "**Problem 4: While Loop Within a For Loop**\n",
    "\n",
    "Given a list of NumPy arrays:\n",
    "```python\n",
    "arrays_list = [np.array([10, 20, 30, 40, 50]), np.array([5, 15, 25]), np.array([1, 2, 3, 4, 5, 6, 7, 8, 9])]\n",
    "```\n",
    "\n",
    "Write a Python script that:\n",
    "1. Iterates over each array in the list using a for loop.\n",
    "2. For each array, starts at the first element and sums consecutive elements using a while loop until the sum is greater than or equal to 50. The script should print the sum and the index where it stopped for each array.\n"
   ]
  },
  {
   "cell_type": "code",
   "execution_count": 18,
   "metadata": {},
   "outputs": [
    {
     "name": "stdout",
     "output_type": "stream",
     "text": [
      "[(60, 2), (45, 2), (45, 8)]\n"
     ]
    }
   ],
   "source": [
    "def sum_to_50(input: np.ndarray) -> (int, int):\n",
    "    sum = 0\n",
    "    i = 0\n",
    "    while sum < 50 and i < len(input):\n",
    "        sum += input[i]\n",
    "        i += 1\n",
    "    return sum, i-1\n",
    "\n",
    "arrays_list = [np.array([10, 20, 30, 40, 50]), np.array([5, 15, 25]), np.array([1, 2, 3, 4, 5, 6, 7, 8, 9])]\n",
    "print([sum_to_50(arr) for arr in arrays_list])\n",
    "\n"
   ]
  },
  {
   "cell_type": "markdown",
   "metadata": {},
   "source": [
    "**Problem 5: Logical Testing with NumPy**\n",
    "\n",
    "Given a 2D NumPy array:\n",
    "```python\n",
    "data = np.array([[5, 8, 3], [7, 2, 9], [6, 4, 1]])\n",
    "```\n",
    "\n",
    "Write a Python script that Identifies and prints the location (row and column) of all elements that are greater than 6."
   ]
  },
  {
   "cell_type": "code",
   "execution_count": 19,
   "metadata": {},
   "outputs": [
    {
     "name": "stdout",
     "output_type": "stream",
     "text": [
      "(0,1) -> 8\n",
      "(1,0) -> 7\n",
      "(1,2) -> 9\n"
     ]
    }
   ],
   "source": [
    "data = np.array([[5, 8, 3], [7, 2, 9], [6, 4, 1]])\n",
    "for i in range(len(data)):\n",
    "    for j in range(len(data[i])):\n",
    "        if data[i,j] > 6:\n",
    "            print(f\"({i},{j}) -> {data[i,j]}\")"
   ]
  }
 ],
 "metadata": {
  "kernelspec": {
   "display_name": "base",
   "language": "python",
   "name": "python3"
  },
  "language_info": {
   "codemirror_mode": {
    "name": "ipython",
    "version": 3
   },
   "file_extension": ".py",
   "mimetype": "text/x-python",
   "name": "python",
   "nbconvert_exporter": "python",
   "pygments_lexer": "ipython3",
   "version": "3.11.4"
  }
 },
 "nbformat": 4,
 "nbformat_minor": 2
}
