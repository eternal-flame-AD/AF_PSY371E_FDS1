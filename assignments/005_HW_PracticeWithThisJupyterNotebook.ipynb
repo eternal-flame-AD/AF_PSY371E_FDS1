{
 "cells": [
  {
   "cell_type": "markdown",
   "id": "b71af9f1",
   "metadata": {},
   "source": [
    "# This is a notebook for homework used to practice the class workflow\n",
    "\n",
    "You are asked to add your information below:\n",
    "\n",
    "Name: A[Redacted]\n",
    "\n",
    "Surname: F[Redacted]\n",
    "\n",
    "EID: G[Redacted]"
   ]
  },
  {
   "cell_type": "code",
   "execution_count": 2,
   "id": "cf7da0d5",
   "metadata": {},
   "outputs": [],
   "source": [
    "from IPython.display import Markdown, display\n",
    "import pandas as pd"
   ]
  },
  {
   "cell_type": "markdown",
   "id": "a758306e",
   "metadata": {},
   "source": [
    "Create a table with 5 rows and 3 columns using Markdown.\n",
    "\n",
    "Column 1 should code for artist name\n",
    "Column 2 should code for a song title\n",
    "Column 3 should reason you like the song.\n",
    "\n",
    "Please fill out the table with your top 5 artists and their respective top songs and an note explaining why/what you like of the song and artist.\n",
    "\n",
    "###### Hint: Avoid say \"because they are awesome!\" We really are interested in learing what you guys like.\n"
   ]
  },
  {
   "cell_type": "markdown",
   "id": "12147f1c",
   "metadata": {},
   "source": [
    "|Artist|Top Song|Reason|\n",
    "|---|---|---|\n",
    "|Wolpis Carter | 泥中に咲く | I like the theme of the lyrics | \n",
    "|Harumaki Gohan | If I Could Become a Comet | The lyrics are very poetic | \n",
    "|Shinsei Kamattechan | きっと良くなるさ | The rhythm is very catchy and upbeat | \n",
    "|Kilo Riley | A Better Son/Daughter | The lyrics very struck home with me | \n",
    "|supercell | 銀色飛行船 | The song is really long but it's very beautiful and soothing | "
   ]
  },
  {
   "cell_type": "markdown",
   "id": "fc9c56f4",
   "metadata": {},
   "source": [
    "## Same table in pandas"
   ]
  },
  {
   "cell_type": "code",
   "execution_count": 3,
   "id": "d33083a9",
   "metadata": {},
   "outputs": [
    {
     "data": {
      "text/markdown": [
       "|    | Artist              | Top Song                  | Reason                                                       |\n",
       "|---:|:--------------------|:--------------------------|:-------------------------------------------------------------|\n",
       "|  0 | Wolpis Carter       | 泥中に咲く                | I like the theme of the lyrics                               |\n",
       "|  1 | Harumaki Gohan      | If I Could Become a Comet | The lyrics are very poetic                                   |\n",
       "|  2 | Shinsei Kamattechan | きっと良くなるさ          | The rhythm is very catchy and upbeat                         |\n",
       "|  3 | Kilo Riley          | A Better Son/Daughter     | The lyrics very struck home with me                          |\n",
       "|  4 | supercell           | 銀色飛行船                | The song is really long but it's very beautiful and soothing |"
      ],
      "text/plain": [
       "<IPython.core.display.Markdown object>"
      ]
     },
     "metadata": {},
     "output_type": "display_data"
    }
   ],
   "source": [
    "df = pd.DataFrame(columns=['Artist', 'Top Song', 'Reason'])\n",
    "df.loc[0] = pd.Series({\n",
    "    'Artist': \"Wolpis Carter\",\n",
    "    'Top Song': \"泥中に咲く\",\n",
    "    'Reason': \"I like the theme of the lyrics\"})\n",
    "df.loc[1] = pd.Series({\n",
    "    'Artist': \"Harumaki Gohan\",\n",
    "    'Top Song': \"If I Could Become a Comet\",\n",
    "    'Reason': \"The lyrics are very poetic\"})\n",
    "df.loc[2] = pd.Series({\n",
    "    'Artist': \"Shinsei Kamattechan\", \n",
    "    'Top Song': \"きっと良くなるさ\", \n",
    "    'Reason': \"The rhythm is very catchy and upbeat\"})\n",
    "df.loc[3] = pd.Series({\n",
    "    'Artist': \"Kilo Riley\",\n",
    "    'Top Song': \"A Better Son/Daughter\",\n",
    "    'Reason': \"The lyrics very struck home with me\"})\n",
    "df.loc[4] = pd.Series({\n",
    "    'Artist': \"supercell\",\n",
    "    'Top Song': \"銀色飛行船\",\n",
    "    'Reason': \"The song is really long but it's very beautiful and soothing\"})\n",
    "\n",
    "df\n",
    "\n",
    "display(Markdown(df.to_markdown()))"
   ]
  },
  {
   "cell_type": "markdown",
   "id": "3a6e9aaf",
   "metadata": {},
   "source": []
  }
 ],
 "metadata": {
  "kernelspec": {
   "display_name": "Python 3 (ipykernel)",
   "language": "python",
   "name": "python3"
  },
  "language_info": {
   "codemirror_mode": {
    "name": "ipython",
    "version": 3
   },
   "file_extension": ".py",
   "mimetype": "text/x-python",
   "name": "python",
   "nbconvert_exporter": "python",
   "pygments_lexer": "ipython3",
   "version": "3.11.4"
  }
 },
 "nbformat": 4,
 "nbformat_minor": 5
}
