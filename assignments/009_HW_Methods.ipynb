{
 "cells": [
  {
   "cell_type": "markdown",
   "metadata": {},
   "source": [
    "# Part A\n",
    "## 1 Strings"
   ]
  },
  {
   "cell_type": "code",
   "execution_count": 1,
   "metadata": {},
   "outputs": [
    {
     "name": "stdout",
     "output_type": "stream",
     "text": [
      "Program\n",
      "Fun\n",
      "oaiIu\n"
     ]
    }
   ],
   "source": [
    "s = \"ProgrammingIsFun\"\n",
    "print(s[s.index(\"Program\"):s.index(\"Program\") + len(\"Program\")])\n",
    "print(s[s.index(\"Fun\"):s.index(\"Fun\") + len(\"Fun\")])\n",
    "print(s[2::3])"
   ]
  },
  {
   "cell_type": "markdown",
   "metadata": {},
   "source": [
    "## 2 Lists"
   ]
  },
  {
   "cell_type": "code",
   "execution_count": 2,
   "metadata": {},
   "outputs": [
    {
     "name": "stdout",
     "output_type": "stream",
     "text": [
      "[10, 20, 30]\n",
      "[70, 80]\n",
      "[40, 50, 60, 70]\n",
      "[10, 30, 50, 70]\n",
      "[70, 50, 30, 10]\n"
     ]
    }
   ],
   "source": [
    "lst = [10, 20, 30, 40, 50, 60, 70, 80]\n",
    "print(lst[:3])\n",
    "print(lst[-2:])\n",
    "print(lst[3:7])\n",
    "print(lst[::2])\n",
    "print(lst[-2::-2])"
   ]
  },
  {
   "cell_type": "markdown",
   "metadata": {},
   "source": [
    "## 3 Tuples"
   ]
  },
  {
   "cell_type": "code",
   "execution_count": 3,
   "metadata": {},
   "outputs": [
    {
     "name": "stdout",
     "output_type": "stream",
     "text": [
      "10\n",
      "(30, 35, 40)\n",
      "(20, 25)\n"
     ]
    }
   ],
   "source": [
    "tup = (5, 10, 15, 20, 25, 30, 35, 40)\n",
    "print(tup[1])\n",
    "print(tup[-3:])\n",
    "print(tup[3:5])"
   ]
  },
  {
   "cell_type": "markdown",
   "metadata": {},
   "source": [
    "# Part B\n",
    "## 1 Strings"
   ]
  },
  {
   "cell_type": "code",
   "execution_count": 4,
   "metadata": {},
   "outputs": [
    {
     "name": "stdout",
     "output_type": "stream",
     "text": [
      "7\n",
      "programmingisfun\n",
      "ProgrammingIsAmazing\n"
     ]
    }
   ],
   "source": [
    "print(s.index(\"ming\"))\n",
    "print(s.lower())\n",
    "print(s.replace(\"Fun\", \"Amazing\"))"
   ]
  },
  {
   "cell_type": "markdown",
   "metadata": {},
   "source": [
    "## 2 Lists"
   ]
  },
  {
   "cell_type": "code",
   "execution_count": 5,
   "metadata": {},
   "outputs": [
    {
     "name": "stdout",
     "output_type": "stream",
     "text": [
      "[10, 20, 30, 40, 50, 60, 70, 80, 90, 100]\n",
      "[10, 30, 40, 50, 60, 70, 80, 90, 100]\n",
      "[100, 90, 80, 70, 60, 50, 40, 30, 10]\n",
      "5\n"
     ]
    }
   ],
   "source": [
    "for x in [90, 100]:\n",
    "    lst.append(x)\n",
    "print(lst)\n",
    "lst.pop(1)\n",
    "print(lst)\n",
    "lst.reverse()\n",
    "print(lst)\n",
    "print(lst.index(50))"
   ]
  },
  {
   "cell_type": "markdown",
   "metadata": {},
   "source": [
    "## 3 Tuples"
   ]
  },
  {
   "cell_type": "code",
   "execution_count": 6,
   "metadata": {},
   "outputs": [
    {
     "name": "stdout",
     "output_type": "stream",
     "text": [
      "1\n",
      "(5, 10, 15, 20, 25, 30, 35, 40, 45)\n"
     ]
    }
   ],
   "source": [
    "print(tup.count(20))\n",
    "tup_list = list(tup)\n",
    "tup_list.append(45)\n",
    "tup = tuple(tup_list)\n",
    "print(tup)"
   ]
  },
  {
   "cell_type": "markdown",
   "metadata": {},
   "source": [
    "## 4 Dictionaries"
   ]
  },
  {
   "cell_type": "code",
   "execution_count": 7,
   "metadata": {},
   "outputs": [
    {
     "name": "stdout",
     "output_type": "stream",
     "text": [
      "{'Scooby': 4, 'Shaggy': 19, 'Velma': 18, 'Daphne': 20, 'Phred': 21}\n",
      "18\n",
      "{'Shaggy': 19, 'Velma': 18, 'Daphne': 20, 'Phred': 21}\n",
      "dict_keys(['Shaggy', 'Velma', 'Daphne', 'Phred'])\n",
      "dict_values([19, 18, 20, 21])\n"
     ]
    }
   ],
   "source": [
    "S_Doo_ = {\"Scooby\": 4, \"Shaggy\": 19, \"Velma\": 18, \"Daphne\": 20}\n",
    "S_Doo_[\"Phred\"] = 21\n",
    "print(S_Doo_)\n",
    "print(S_Doo_[\"Velma\"])\n",
    "del S_Doo_[\"Scooby\"]\n",
    "print(S_Doo_)\n",
    "print(S_Doo_.keys())\n",
    "print(S_Doo_.values())"
   ]
  },
  {
   "cell_type": "markdown",
   "metadata": {},
   "source": [
    "# Bonus"
   ]
  },
  {
   "cell_type": "code",
   "execution_count": 8,
   "metadata": {},
   "outputs": [
    {
     "name": "stdout",
     "output_type": "stream",
     "text": [
      "['Shaggy', 'Velma', 'Daphne', 'Phred']\n"
     ]
    }
   ],
   "source": [
    "S_Doo_keys = list(S_Doo_.keys())\n",
    "print(S_Doo_keys)"
   ]
  }
 ],
 "metadata": {
  "kernelspec": {
   "display_name": "base",
   "language": "python",
   "name": "python3"
  },
  "language_info": {
   "codemirror_mode": {
    "name": "ipython",
    "version": 3
   },
   "file_extension": ".py",
   "mimetype": "text/x-python",
   "name": "python",
   "nbconvert_exporter": "python",
   "pygments_lexer": "ipython3",
   "version": "3.11.4"
  },
  "orig_nbformat": 4
 },
 "nbformat": 4,
 "nbformat_minor": 2
}
