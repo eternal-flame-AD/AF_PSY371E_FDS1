{
 "cells": [
  {
   "cell_type": "markdown",
   "metadata": {},
   "source": [
    "# Question 1"
   ]
  },
  {
   "cell_type": "code",
   "execution_count": 1,
   "metadata": {},
   "outputs": [
    {
     "name": "stdout",
     "output_type": "stream",
     "text": [
      "A. F.\n",
      "23\n",
      "New name is 23 and new age is A. F.\n"
     ]
    }
   ],
   "source": [
    "# a)\n",
    "name = \"A. F.\"\n",
    "print(name)\n",
    "# b)\n",
    "age = 23\n",
    "print(age)\n",
    "# c)\n",
    "name, age = age, name\n",
    "print(\"New name is {} and new age is {}\".format(name, age))"
   ]
  },
  {
   "cell_type": "markdown",
   "metadata": {},
   "source": [
    "# Question 2"
   ]
  },
  {
   "cell_type": "markdown",
   "metadata": {},
   "source": [
    "2.a)"
   ]
  },
  {
   "cell_type": "code",
   "execution_count": 2,
   "metadata": {},
   "outputs": [
    {
     "name": "stdout",
     "output_type": "stream",
     "text": [
      "The type of 5 is <class 'int'>\n",
      "The type of 5.0 is <class 'float'>\n",
      "The type of 5 is <class 'str'>\n",
      "The type of [5] is <class 'list'>\n",
      "The type of (5,) is <class 'tuple'>\n",
      "The type of {5} is <class 'set'>\n",
      "The type of True is <class 'bool'>\n"
     ]
    }
   ],
   "source": [
    "\n",
    "for value in [\n",
    "    5,\n",
    "    5.0,\n",
    "    \"5\",\n",
    "    [5],\n",
    "    (5,),\n",
    "    {5},\n",
    "    True\n",
    "]:\n",
    "    print(\"The type of {} is {}\".format(value, type(value)))"
   ]
  },
  {
   "cell_type": "markdown",
   "metadata": {},
   "source": [
    "2.b)"
   ]
  },
  {
   "cell_type": "code",
   "execution_count": 3,
   "metadata": {},
   "outputs": [
    {
     "name": "stdout",
     "output_type": "stream",
     "text": [
      "is_student is True\n"
     ]
    }
   ],
   "source": [
    "is_student = True\n",
    "print(\"is_student is {}\".format(is_student))"
   ]
  },
  {
   "cell_type": "markdown",
   "metadata": {},
   "source": [
    "# Question 3"
   ]
  },
  {
   "cell_type": "code",
   "execution_count": 5,
   "metadata": {},
   "outputs": [
    {
     "name": "stdout",
     "output_type": "stream",
     "text": [
      "38\n",
      "16\n",
      "56\n",
      "25.0\n",
      "0\n",
      "100000\n"
     ]
    }
   ],
   "source": [
    "# a)\n",
    "print(15 + 23)\n",
    "print(50 - 34)\n",
    "print(8 * 7)\n",
    "print(100 / 4)\n",
    "\n",
    "# b)\n",
    "a, b = 10, 5\n",
    "print( a % b)\n",
    "print( a ** b)"
   ]
  },
  {
   "cell_type": "markdown",
   "metadata": {},
   "source": [
    "# Question 4"
   ]
  },
  {
   "cell_type": "code",
   "execution_count": 6,
   "metadata": {},
   "outputs": [
    {
     "name": "stdout",
     "output_type": "stream",
     "text": [
      "123\n",
      "456\n",
      "78\n"
     ]
    }
   ],
   "source": [
    "# a)\n",
    "print(int(\"123\"))\n",
    "print(str(456))\n",
    "print(int(78.9))"
   ]
  },
  {
   "cell_type": "markdown",
   "metadata": {},
   "source": [
    "# Question 5"
   ]
  },
  {
   "cell_type": "code",
   "execution_count": 7,
   "metadata": {},
   "outputs": [
    {
     "name": "stdout",
     "output_type": "stream",
     "text": [
      "PythonRocks\n",
      "Hello Hello Hello \n"
     ]
    }
   ],
   "source": [
    "print(\"Python\" + \"Rocks\")\n",
    "print(\"Hello \" * 3)"
   ]
  },
  {
   "cell_type": "markdown",
   "metadata": {},
   "source": [
    "# Question 6"
   ]
  },
  {
   "cell_type": "code",
   "execution_count": 8,
   "metadata": {},
   "outputs": [
    {
     "name": "stdout",
     "output_type": "stream",
     "text": [
      "x = 10, y = 15, z = 5\n"
     ]
    }
   ],
   "source": [
    "x, y, z = 5, 10, 15\n",
    "\n",
    "# no extra operators used, just for readability \n",
    "def exchange(x, y):\n",
    "    x = x + y\n",
    "    y = x - y\n",
    "    x = x - y\n",
    "    return x, y\n",
    "\n",
    "x, y = exchange(x, y)\n",
    "y, z = exchange(y, z)\n",
    "print(\"x = {}, y = {}, z = {}\".format(x, y, z))"
   ]
  }
 ],
 "metadata": {
  "kernelspec": {
   "display_name": "base",
   "language": "python",
   "name": "python3"
  },
  "language_info": {
   "codemirror_mode": {
    "name": "ipython",
    "version": 3
   },
   "file_extension": ".py",
   "mimetype": "text/x-python",
   "name": "python",
   "nbconvert_exporter": "python",
   "pygments_lexer": "ipython3",
   "version": "3.11.4"
  },
  "orig_nbformat": 4
 },
 "nbformat": 4,
 "nbformat_minor": 2
}
