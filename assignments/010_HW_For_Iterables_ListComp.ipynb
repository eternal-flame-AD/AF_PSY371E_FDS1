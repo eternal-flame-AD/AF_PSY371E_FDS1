{
    "cells": [
        {
            "cell_type": "code",
            "execution_count": 1,
            "metadata": {},
            "outputs": [],
            "source": [
                "import math\n",
                "from typing import TypeVar\n",
                "from collections.abc import Generator, Callable, \\\n",
                "                            MutableMapping, MutableSequence, \\\n",
                "                                Sequence\n",
                "T = TypeVar(\"T\")\n",
                "U = TypeVar(\"U\")"
            ]
        },
        {
            "cell_type": "markdown",
            "metadata": {},
            "source": [
                "# Part 1\n",
                "## Question 1\n",
                "### a)"
            ]
        },
        {
            "cell_type": "code",
            "execution_count": 2,
            "metadata": {},
            "outputs": [
                {
                    "name": "stdout",
                    "output_type": "stream",
                    "text": [
                        "[4, 8, 12, 16]\n"
                    ]
                }
            ],
            "source": [
                "def list_apply(data: MutableSequence[T], func: Callable[[T], T], copy: bool=False) -> MutableSequence[T]:\n",
                "    newdata = data.copy() if copy else data\n",
                "    for i in range(len(data)):\n",
                "        newdata[i] = func(data[i])\n",
                "    return newdata\n",
                "\n",
                "print(list_apply([2, 4, 6, 8], lambda x: x * 2))"
            ]
        },
        {
            "cell_type": "markdown",
            "metadata": {},
            "source": [
                "### b)"
            ]
        },
        {
            "cell_type": "code",
            "execution_count": 3,
            "metadata": {},
            "outputs": [
                {
                    "name": "stdout",
                    "output_type": "stream",
                    "text": [
                        "grape\n",
                        "kiwi\n",
                        "pear\n",
                        "apple\n"
                    ]
                }
            ],
            "source": [
                "def print_list_rev(data: Sequence[T]) -> None:\n",
                "    for i in range(len(data) - 1, -1, -1):\n",
                "        print(data[i])\n",
                "\n",
                "print_list_rev([\"apple\", \"pear\", \"kiwi\", \"grape\"])"
            ]
        },
        {
            "cell_type": "markdown",
            "metadata": {},
            "source": [
                "## Question 2\n",
                "### a)"
            ]
        },
        {
            "cell_type": "code",
            "execution_count": 4,
            "metadata": {},
            "outputs": [
                {
                    "name": "stdout",
                    "output_type": "stream",
                    "text": [
                        "0 1 2 3 4 5 6 7 8 9 "
                    ]
                }
            ],
            "source": [
                "def print_range(start: int, end: int) -> None:\n",
                "    for i in range(start, end):\n",
                "        print(i, end=\" \")\n",
                "print_range(0, 10)"
            ]
        },
        {
            "cell_type": "markdown",
            "metadata": {},
            "source": [
                "### b)"
            ]
        },
        {
            "cell_type": "code",
            "execution_count": 5,
            "metadata": {},
            "outputs": [
                {
                    "name": "stdout",
                    "output_type": "stream",
                    "text": [
                        "5 6 7 8 9 10 11 12 13 14 15 "
                    ]
                }
            ],
            "source": [
                "# I used the range function in the print_range function\n",
                "print_range(5, 16)"
            ]
        },
        {
            "cell_type": "markdown",
            "metadata": {},
            "source": [
                "### c)"
            ]
        },
        {
            "cell_type": "code",
            "execution_count": 6,
            "metadata": {},
            "outputs": [
                {
                    "data": {
                        "text/plain": [
                            "[0, 2, 4, 6, 8, 10, 12, 14, 16, 18]"
                        ]
                    },
                    "execution_count": 6,
                    "metadata": {},
                    "output_type": "execute_result"
                }
            ],
            "source": [
                "def first_n_even_numbers(n: int) -> Generator[int, None, None]:\n",
                "    for i in range(0, 2**31):\n",
                "        if i % 2 == 0:\n",
                "            n -= 1\n",
                "            if n < 0:\n",
                "                break\n",
                "            yield i\n",
                "\n",
                "list(first_n_even_numbers(10))"
            ]
        },
        {
            "cell_type": "markdown",
            "metadata": {},
            "source": [
                "# Part 2\n",
                "## Question 1\n",
                "### a)"
            ]
        },
        {
            "cell_type": "code",
            "execution_count": 7,
            "metadata": {},
            "outputs": [
                {
                    "name": "stdout",
                    "output_type": "stream",
                    "text": [
                        "Alex's favorite color is Blue.\n",
                        "Jordan's favorite color is Green.\n",
                        "Taylor's favorite color is Red.\n"
                    ]
                }
            ],
            "source": [
                "fav_colors = {\n",
                "    \"Alex\": \"Blue\",\n",
                "    \"Jordan\": \"Green\",\n",
                "    \"Taylor\": \"Red\",\n",
                "}\n",
                "\n",
                "for (name, color) in fav_colors.items():\n",
                "    print(f\"{name}'s favorite color is {color}.\")\n"
            ]
        },
        {
            "cell_type": "markdown",
            "metadata": {},
            "source": [
                "### b)"
            ]
        },
        {
            "cell_type": "code",
            "execution_count": 8,
            "metadata": {},
            "outputs": [
                {
                    "name": "stdout",
                    "output_type": "stream",
                    "text": [
                        "{'apple': 10, 'banana': 6, 'cherries': 20}\n"
                    ]
                }
            ],
            "source": [
                "def dict_apply(data: MutableMapping[T, U], func: Callable[[U], U]) -> MutableMapping[str, U]:\n",
                "    for key in data:\n",
                "        data[key] = func(data[key])\n",
                "    return data\n",
                "    \n",
                "print(dict_apply({\"apple\": 5, \n",
                "                  \"banana\": 3,\n",
                "                    \"cherries\": 10}, lambda x: x*2))"
            ]
        },
        {
            "cell_type": "markdown",
            "metadata": {},
            "source": [
                "# Part 3\n",
                "## Question 1\n",
                "### a)"
            ]
        },
        {
            "cell_type": "code",
            "execution_count": 9,
            "metadata": {},
            "outputs": [
                {
                    "name": "stdout",
                    "output_type": "stream",
                    "text": [
                        "[2, 6, 10, 14]\n"
                    ]
                }
            ],
            "source": [
                "print(list_apply([1,3,5,7], lambda x: x*2, copy=True))"
            ]
        },
        {
            "cell_type": "markdown",
            "metadata": {},
            "source": [
                "### b)"
            ]
        },
        {
            "cell_type": "code",
            "execution_count": 10,
            "metadata": {},
            "outputs": [
                {
                    "name": "stdout",
                    "output_type": "stream",
                    "text": [
                        "['A', 'B', 'C', 'D']\n"
                    ]
                }
            ],
            "source": [
                "print(list_apply([\"Apple\", \"Banana\", \"Cherry\", \"Date\"], lambda x: x[0], copy=True))"
            ]
        },
        {
            "cell_type": "markdown",
            "metadata": {},
            "source": [
                "## Question 2\n",
                "### c)"
            ]
        },
        {
            "cell_type": "code",
            "execution_count": 11,
            "metadata": {},
            "outputs": [
                {
                    "data": {
                        "text/plain": [
                            "[1.0,\n",
                            " 1.4142135623730951,\n",
                            " 1.7320508075688772,\n",
                            " 2.0,\n",
                            " 2.23606797749979,\n",
                            " 2.449489742783178,\n",
                            " 2.6457513110645907,\n",
                            " 2.8284271247461903,\n",
                            " 3.0,\n",
                            " 3.1622776601683795]"
                        ]
                    },
                    "execution_count": 11,
                    "metadata": {},
                    "output_type": "execute_result"
                }
            ],
            "source": [
                "def list_apply_with_comprehension(data: Sequence[T], func: Callable[[T], U]) -> Sequence[U]:\n",
                "    return [func(x) for x in data]\n",
                "\n",
                "list_apply_with_comprehension(range(1, 11), lambda x: math.sqrt(x))"
            ]
        },
        {
            "cell_type": "code",
            "execution_count": 12,
            "metadata": {},
            "outputs": [
                {
                    "data": {
                        "text/plain": [
                            "['e', 'r', 'i', 'e']"
                        ]
                    },
                    "execution_count": 12,
                    "metadata": {},
                    "output_type": "execute_result"
                }
            ],
            "source": [
                "list_apply_with_comprehension([\"apple\", \"pear\", \"kiwi\", \"grape\"], lambda x: x[-1])"
            ]
        },
        {
            "cell_type": "markdown",
            "metadata": {},
            "source": [
                "# Part 4\n",
                "## a)"
            ]
        },
        {
            "cell_type": "code",
            "execution_count": 13,
            "metadata": {},
            "outputs": [
                {
                    "name": "stdout",
                    "output_type": "stream",
                    "text": [
                        "[1, 2, 3, 4, 5, 6, 7, 8, 9, 10, 11, 12, 13, 14, 15, 16, 17, 18, 19, 20, 21, 22, 23, 42]\n"
                    ]
                }
            ],
            "source": [
                "RecursiveList = list[T | \"RecursiveList\"]\n",
                "def flatten_list(input: RecursiveList) -> list[T]:\n",
                "    output = []\n",
                "    dfs = [input]\n",
                "    while dfs:\n",
                "        current = dfs.pop()\n",
                "        if isinstance(current, list):\n",
                "            for item in current:\n",
                "                dfs.insert(0, item)\n",
                "        else:\n",
                "            output.append(current)\n",
                "    return output\n",
                "\n",
                "deep_list = [[[1, 2, 3, 4], [5, 6, 7, 8]],\n",
                "            [[9, 10, 11, 12], [13, 14, 15, 16]],\n",
                "            [[17, 18, 19, 20], [21, 22, 23, 42]]]\n",
                "\n",
                "print(flatten_list(deep_list))"
            ]
        },
        {
            "cell_type": "markdown",
            "metadata": {},
            "source": [
                "### b)"
            ]
        },
        {
            "cell_type": "code",
            "execution_count": 14,
            "metadata": {},
            "outputs": [
                {
                    "name": "stdout",
                    "output_type": "stream",
                    "text": [
                        "['ihg', 'fed', 'cba']\n",
                        "['able', 'was', 'I', 'ere', 'I', 'saw', 'elba']\n"
                    ]
                }
            ],
            "source": [
                "myStrLst = [\"able\", \"was\", \"I\", \"ere\", \"I\", \"saw\", \"elba\"]\n",
                "def reverse_str_order_and_str(data: Sequence[str]) -> Sequence[str]:\n",
                "    return [x[::-1] for x in data[::-1]]\n",
                "\n",
                "print(reverse_str_order_and_str([\"abc\", \"def\", \"ghi\"]))\n",
                "print(reverse_str_order_and_str(myStrLst))"
            ]
        },
        {
            "cell_type": "code",
            "execution_count": null,
            "metadata": {},
            "outputs": [],
            "source": []
        }
    ],
    "metadata": {
        "title": "Python Looping Homework",
        "kernelspec": {
            "display_name": "base",
            "language": "python",
            "name": "python3"
        },
        "language_info": {
            "codemirror_mode": {
                "name": "ipython",
                "version": 3
            },
            "file_extension": ".py",
            "mimetype": "text/x-python",
            "name": "python",
            "nbconvert_exporter": "python",
            "pygments_lexer": "ipython3",
            "version": "3.11.4"
        },
        "orig_nbformat": 4
    },
    "nbformat": 4,
    "nbformat_minor": 2
}